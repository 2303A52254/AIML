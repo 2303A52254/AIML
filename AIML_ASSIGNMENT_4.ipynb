{
  "cells": [
    {
      "cell_type": "markdown",
      "metadata": {
        "id": "view-in-github",
        "colab_type": "text"
      },
      "source": [
        "<a href=\"https://colab.research.google.com/github/2303A52254/AIML/blob/main/AIML_ASSIGNMENT_4.ipynb\" target=\"_parent\"><img src=\"https://colab.research.google.com/assets/colab-badge.svg\" alt=\"Open In Colab\"/></a>"
      ]
    },
    {
      "cell_type": "code",
      "source": [
        "graph1 = {\n",
        "  'A' : ['B', 'C', 'G'],\n",
        "  'B' : ['A'],\n",
        "  'C' : ['A', 'D', 'F'],\n",
        "  'D' : ['A', 'C', 'E', 'H'],\n",
        "  'E' : ['D', 'H', 'F'],\n",
        "  'F' : ['C', 'E'],\n",
        "  'G' : ['A', 'D', 'H'],\n",
        "  'H' : ['D', 'E', 'G'],\n",
        "}\n",
        "\n",
        "def dfs(graph, node, visited):\n",
        "  if node not in visited:\n",
        "    visited.append(node)\n",
        "    for k in graph[node]:\n",
        "      dfs(graph,k, visited)\n",
        "\n",
        "  return visited\n",
        "\n",
        "visited = dfs(graph1, 'B', [])\n",
        "print(visited)"
      ],
      "metadata": {
        "id": "oiVOc4NMwTlb"
      },
      "execution_count": null,
      "outputs": []
    },
    {
      "cell_type": "code",
      "source": [
        "import numpy as np\n",
        "from tabulate import tabulate\n",
        "\n",
        "def count_misplaced_values(initial_table, goal_table):\n",
        "    # Ensure both tables are numpy arrays for easier comparison\n",
        "    initial_table = np.array(initial_table)\n",
        "    goal_table = np.array(goal_table)\n",
        "\n",
        "    # Ensure both tables have the same shape\n",
        "    if initial_table.shape != goal_table.shape:\n",
        "        raise ValueError(\"The initial and goal tables must have the same dimensions\")\n",
        "\n",
        "    # Compare the tables element-wise and get the mismatched positions\n",
        "    misplaced_positions = np.argwhere(initial_table != goal_table)\n",
        "\n",
        "    # Prepare data for tabular display\n",
        "    table_data = []\n",
        "    for pos in misplaced_positions:\n",
        "        row, col = pos\n",
        "        table_data.append([row, col, initial_table[row, col], goal_table[row, col]])\n",
        "\n",
        "    # Create and print the table with vertical and horizontal lines\n",
        "    headers = [\"Row\", \"Column\", \"Initial Value\", \"Goal Value\"]\n",
        "    table = tabulate(table_data, headers, tablefmt=\"grid\")\n",
        "\n",
        "    # Count the number of misplaced values\n",
        "    misplaced_count = len(table_data)\n",
        "\n",
        "    return misplaced_count, table\n",
        "\n",
        "# Example usage\n",
        "initial_table = [\n",
        "    [1, 2, 3],\n",
        "    [4, 0, 5],\n",
        "    [6, 7, 8]\n",
        "]\n",
        "\n",
        "goal_table = [\n",
        "    [1, 2, 3],\n",
        "    [4, 5, 0],\n",
        "    [6, 7, 8]\n",
        "]\n",
        "\n",
        "misplaced_count, table = count_misplaced_values(initial_table, goal_table)\n",
        "print(f\"Number of misplaced values: {misplaced_count}\")\n",
        "print(\"Misplaced values in tabular structure:\")\n",
        "print(table)"
      ],
      "metadata": {
        "id": "pnKdUEGuwZHV",
        "outputId": "4a5cd332-709f-4d47-9315-aeccd55b9adf",
        "colab": {
          "base_uri": "https://localhost:8080/"
        }
      },
      "execution_count": null,
      "outputs": [
        {
          "output_type": "stream",
          "name": "stdout",
          "text": [
            "Number of misplaced values: 2\n",
            "Misplaced values in tabular structure:\n",
            "+-------+----------+-----------------+--------------+\n",
            "|   Row |   Column |   Initial Value |   Goal Value |\n",
            "+=======+==========+=================+==============+\n",
            "|     1 |        1 |               0 |            5 |\n",
            "+-------+----------+-----------------+--------------+\n",
            "|     1 |        2 |               5 |            0 |\n",
            "+-------+----------+-----------------+--------------+\n"
          ]
        }
      ]
    }
  ],
  "metadata": {
    "colab": {
      "toc_visible": true,
      "provenance": [],
      "include_colab_link": true
    },
    "kernelspec": {
      "display_name": "Python 3",
      "name": "python3"
    }
  },
  "nbformat": 4,
  "nbformat_minor": 0
}